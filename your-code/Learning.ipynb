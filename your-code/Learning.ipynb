{
 "cells": [
  {
   "attachments": {},
   "cell_type": "markdown",
   "metadata": {},
   "source": [
    "# Map, Reduce, Filter\n",
    "\n",
    "\n",
    "Lesson Goals\n",
    "\n",
    "In this lesson you will learn all about:\n",
    "\n",
    "    Mapping, reducing, and filtering in Python\n",
    "    The apply function in pandas and how it relates to the Python functions above\n",
    "\n",
    "Introduction\n",
    "\n",
    "El mapeo y el filtrado son conceptos importantes en la programación funcional. Estos conceptos surgen en otros marcos de programación distribuidos y también existen en Python. En esta lección, ampliaremos los conceptos de programación funcional que hemos aprendido en lecciones anteriores y aplicaremos estos conceptos usando mapeo, reducción y filtrado.\n",
    "Resumen de programación funcional\n",
    "\n",
    "Como hemos aprendido en lecciones anteriores, la programación funcional es un paradigma de programación donde el código se escribe de tal manera que evita la mutabilidad o el estado compartido. Las operaciones se realizan pasando datos a través de funciones y almacenando el resultado en una nueva variable.\n",
    "Inmutabilidad\n",
    "\n",
    "Un objeto inmutable es un objeto que no se puede cambiar después de su creación. Al ceñirnos a la programación funcional, nos aseguramos de que no haya dos procesos que modifiquen los mismos datos. En cambio, cuando cada función modifica los datos, almacenará los datos resultantes en una nueva variable. Esto da como resultado un código más limpio, más seguro y más fácil de leer.\n",
    "Estado de transformación\n",
    "\n",
    "Al escribir funcionalmente, podemos pensar en una función como un mapeo de entrada a salida. Un ejemplo de estado compartido es un juego de computadora en el que tenemos varios personajes moviéndose en la pantalla. Mover un personaje puede afectar a otro personaje, incluso sin querer. Con la programación funcional, esto no es una preocupación para nosotros.\n",
    "Cartografía\n",
    "\n",
    "El objetivo de usar la función map() es aplicar una función a una secuencia (como una lista o un conjunto). La función map() toma una función como argumento así como una secuencia y devuelve una secuencia con la función aplicada a cada elemento de la secuencia. Por ejemplo, creemos una función que divida un número por 2 y devuelva el resultado."
   ]
  },
  {
   "cell_type": "code",
   "execution_count": 1,
   "metadata": {},
   "outputs": [],
   "source": [
    "def half(x):\n",
    "    return x / 2"
   ]
  },
  {
   "cell_type": "markdown",
   "metadata": {},
   "source": [
    "Now that we have our function, let's apply it to a list of numbers.\n",
    "\n"
   ]
  },
  {
   "cell_type": "code",
   "execution_count": 5,
   "metadata": {},
   "outputs": [
    {
     "data": {
      "text/plain": [
       "<map at 0x12398f880>"
      ]
     },
     "execution_count": 5,
     "metadata": {},
     "output_type": "execute_result"
    }
   ],
   "source": [
    "\n",
    "def half(x):\n",
    "    return x / 2\n",
    "\n",
    "l = [10, 12, 34, 23]\n",
    "map(half, l)\n",
    "\n",
    "v = [12, 45, 32, 76]\n",
    "(map(half, v))"
   ]
  },
  {
   "cell_type": "markdown",
   "metadata": {},
   "source": [
    "The map() function creates a map object which is an iterable object. To create a new list, one option is to convert the iterable into a list. "
   ]
  },
  {
   "cell_type": "code",
   "execution_count": 6,
   "metadata": {},
   "outputs": [
    {
     "data": {
      "text/plain": [
       "[6.0, 22.5, 16.0, 38.0]"
      ]
     },
     "execution_count": 6,
     "metadata": {},
     "output_type": "execute_result"
    }
   ],
   "source": [
    "list(map(half, l)) \n",
    "\n",
    "list(map(half, v))\n",
    "\n",
    "#Ha recorrido cada unno de los objetos de la lista y los ha dividido entre dos, tal y como le indicaba la función llamada half."
   ]
  },
  {
   "attachments": {},
   "cell_type": "markdown",
   "metadata": {},
   "source": [
    "Similarly, we can cast the iterable into a set.\n",
    "\n",
    "\n",
    "# Filtering\n",
    "\n",
    "Al igual que la función map(), la función de filtro toma una función y una secuencia y devuelve un iterable. El objetivo de esta función es usar la función que le pasamos para eliminar elementos de nuestra secuencia. Nuestra función debe devolver verdadero para todos los elementos que queremos conservar y falso para los que queremos eliminar. Por ejemplo, podemos crear una función que devuelva verdadero si un número es impar y falso si es par. De hecho, usemos una expresión lambda para esta tarea.\n",
    "\n",
    "Al igual que map(), lo que devuelve es un objeto, no un resultado, por lo que también tenemos que colocar list() al inicio.\n",
    "\n"
   ]
  },
  {
   "cell_type": "code",
   "execution_count": 4,
   "metadata": {},
   "outputs": [
    {
     "data": {
      "text/plain": [
       "<filter at 0x7fcb1457a588>"
      ]
     },
     "execution_count": 4,
     "metadata": {},
     "output_type": "execute_result"
    }
   ],
   "source": [
    "filter(lambda x: x % 2 == 1, l)\n",
    "\n",
    "#Filtra(en una sola línea) si x es impar en la función l"
   ]
  },
  {
   "cell_type": "markdown",
   "metadata": {},
   "source": [
    "Again, this returns an iterable, so we will cast it to a list."
   ]
  },
  {
   "cell_type": "code",
   "execution_count": 5,
   "metadata": {},
   "outputs": [
    {
     "data": {
      "text/plain": [
       "[23]"
      ]
     },
     "execution_count": 5,
     "metadata": {},
     "output_type": "execute_result"
    }
   ],
   "source": [
    "list(filter(lambda x: x % 2 == 1, l))"
   ]
  },
  {
   "attachments": {},
   "cell_type": "markdown",
   "metadata": {},
   "source": [
    "# Reducing\n",
    "\n",
    "Si bien la función map() aplica la función a cada elemento de la secuencia, a veces es posible que queramos aplicar una función que agregue todos los elementos de la secuencia. Hay ejemplos integrados en Python para esto, como la función max() o la función sum(). reduce() hace exactamente esto. Esta función no es estándar en Python y debe importarse desde la biblioteca de funciones. La función reduce comienza desde el principio de la secuencia y opera en dos elementos a la vez. Esta es la razón por la que la función que se pasa a reduce() siempre debe tomar dos elementos y devolver uno.\n",
    "\n",
    "Por ejemplo, si nos gustaría crear una función de suma usando reduce(), sumaremos dos elementos a la vez.\n",
    "\n",
    "Escribamos una expresión lambda que tome dos elementos y los sume."
   ]
  },
  {
   "cell_type": "code",
   "execution_count": 6,
   "metadata": {},
   "outputs": [],
   "source": [
    "summation = lambda a, b: a + b"
   ]
  },
  {
   "cell_type": "markdown",
   "metadata": {},
   "source": [
    "By passing this lambda expression to the reduce() function (along with a list), we will perform the following operations in this order:\n",
    "\n",
    "reduce order\n",
    "\n",
    "Here is the completed snippet of code to find the sum:"
   ]
  },
  {
   "cell_type": "code",
   "execution_count": 7,
   "metadata": {},
   "outputs": [
    {
     "data": {
      "text/plain": [
       "79"
      ]
     },
     "execution_count": 7,
     "metadata": {},
     "output_type": "execute_result"
    }
   ],
   "source": [
    "from functools import reduce\n",
    "\n",
    "reduce(lambda a, b: a + b, l)"
   ]
  },
  {
   "cell_type": "markdown",
   "metadata": {},
   "source": [
    "Here is another example of reduce(). This time we will use reduce() to find the maximum of a list. We will do this by comparing two elements at a time and returning the largest of the two. "
   ]
  },
  {
   "cell_type": "code",
   "execution_count": 8,
   "metadata": {},
   "outputs": [
    {
     "data": {
      "text/plain": [
       "34"
      ]
     },
     "execution_count": 8,
     "metadata": {},
     "output_type": "execute_result"
    }
   ],
   "source": [
    "reduce(lambda a, b: a if a > b else b, l)"
   ]
  },
  {
   "cell_type": "markdown",
   "metadata": {},
   "source": [
    "\n",
    "# Functional Programming in Pandas\n",
    "\n",
    "In pandas, we can use the apply() function to apply a function to a dataset. We do not make a distinction between functions that are applied to every row or every column and aggregate functions. We can use the apply function for both types.\n",
    "\n",
    "Here is an example of a dataframe."
   ]
  },
  {
   "cell_type": "code",
   "execution_count": 9,
   "metadata": {},
   "outputs": [
    {
     "data": {
      "text/html": [
       "<div>\n",
       "<style scoped>\n",
       "    .dataframe tbody tr th:only-of-type {\n",
       "        vertical-align: middle;\n",
       "    }\n",
       "\n",
       "    .dataframe tbody tr th {\n",
       "        vertical-align: top;\n",
       "    }\n",
       "\n",
       "    .dataframe thead th {\n",
       "        text-align: right;\n",
       "    }\n",
       "</style>\n",
       "<table border=\"1\" class=\"dataframe\">\n",
       "  <thead>\n",
       "    <tr style=\"text-align: right;\">\n",
       "      <th></th>\n",
       "      <th>a</th>\n",
       "      <th>b</th>\n",
       "      <th>c</th>\n",
       "    </tr>\n",
       "  </thead>\n",
       "  <tbody>\n",
       "    <tr>\n",
       "      <th>0</th>\n",
       "      <td>-0.056673</td>\n",
       "      <td>-0.586679</td>\n",
       "      <td>1.316608</td>\n",
       "    </tr>\n",
       "    <tr>\n",
       "      <th>1</th>\n",
       "      <td>0.317204</td>\n",
       "      <td>-0.670107</td>\n",
       "      <td>-0.402551</td>\n",
       "    </tr>\n",
       "    <tr>\n",
       "      <th>2</th>\n",
       "      <td>1.510662</td>\n",
       "      <td>0.801214</td>\n",
       "      <td>1.097762</td>\n",
       "    </tr>\n",
       "    <tr>\n",
       "      <th>3</th>\n",
       "      <td>-1.542299</td>\n",
       "      <td>0.058841</td>\n",
       "      <td>-0.053087</td>\n",
       "    </tr>\n",
       "  </tbody>\n",
       "</table>\n",
       "</div>"
      ],
      "text/plain": [
       "          a         b         c\n",
       "0 -0.056673 -0.586679  1.316608\n",
       "1  0.317204 -0.670107 -0.402551\n",
       "2  1.510662  0.801214  1.097762\n",
       "3 -1.542299  0.058841 -0.053087"
      ]
     },
     "execution_count": 9,
     "metadata": {},
     "output_type": "execute_result"
    }
   ],
   "source": [
    "import numpy as np\n",
    "import pandas as pd\n",
    "\n",
    "df = pd.DataFrame(np.random.randn(4, 3), columns=['a', 'b', 'c'])\n",
    "df"
   ]
  },
  {
   "cell_type": "markdown",
   "metadata": {},
   "source": [
    "We can use the half() function we defined earlier and apply it to every cell in the dataframe. "
   ]
  },
  {
   "cell_type": "code",
   "execution_count": 10,
   "metadata": {},
   "outputs": [
    {
     "data": {
      "text/html": [
       "<div>\n",
       "<style scoped>\n",
       "    .dataframe tbody tr th:only-of-type {\n",
       "        vertical-align: middle;\n",
       "    }\n",
       "\n",
       "    .dataframe tbody tr th {\n",
       "        vertical-align: top;\n",
       "    }\n",
       "\n",
       "    .dataframe thead th {\n",
       "        text-align: right;\n",
       "    }\n",
       "</style>\n",
       "<table border=\"1\" class=\"dataframe\">\n",
       "  <thead>\n",
       "    <tr style=\"text-align: right;\">\n",
       "      <th></th>\n",
       "      <th>a</th>\n",
       "      <th>b</th>\n",
       "      <th>c</th>\n",
       "    </tr>\n",
       "  </thead>\n",
       "  <tbody>\n",
       "    <tr>\n",
       "      <th>0</th>\n",
       "      <td>-0.028337</td>\n",
       "      <td>-0.293340</td>\n",
       "      <td>0.658304</td>\n",
       "    </tr>\n",
       "    <tr>\n",
       "      <th>1</th>\n",
       "      <td>0.158602</td>\n",
       "      <td>-0.335053</td>\n",
       "      <td>-0.201276</td>\n",
       "    </tr>\n",
       "    <tr>\n",
       "      <th>2</th>\n",
       "      <td>0.755331</td>\n",
       "      <td>0.400607</td>\n",
       "      <td>0.548881</td>\n",
       "    </tr>\n",
       "    <tr>\n",
       "      <th>3</th>\n",
       "      <td>-0.771149</td>\n",
       "      <td>0.029421</td>\n",
       "      <td>-0.026543</td>\n",
       "    </tr>\n",
       "  </tbody>\n",
       "</table>\n",
       "</div>"
      ],
      "text/plain": [
       "          a         b         c\n",
       "0 -0.028337 -0.293340  0.658304\n",
       "1  0.158602 -0.335053 -0.201276\n",
       "2  0.755331  0.400607  0.548881\n",
       "3 -0.771149  0.029421 -0.026543"
      ]
     },
     "execution_count": 10,
     "metadata": {},
     "output_type": "execute_result"
    }
   ],
   "source": [
    "df.apply(half)"
   ]
  },
  {
   "cell_type": "markdown",
   "metadata": {},
   "source": [
    "Furthermore, we can define an aggregate function that will return the range of a column (the difference between the maximum and the minimum values)."
   ]
  },
  {
   "cell_type": "code",
   "execution_count": 11,
   "metadata": {},
   "outputs": [],
   "source": [
    "def range_func(x):\n",
    "    return max(x) - min(x)"
   ]
  },
  {
   "cell_type": "markdown",
   "metadata": {},
   "source": [
    "When we apply the function to our dataframe, it will compute the range for each column by default."
   ]
  },
  {
   "cell_type": "code",
   "execution_count": 12,
   "metadata": {},
   "outputs": [
    {
     "data": {
      "text/plain": [
       "a    3.052961\n",
       "b    1.471320\n",
       "c    1.719159\n",
       "dtype: float64"
      ]
     },
     "execution_count": 12,
     "metadata": {},
     "output_type": "execute_result"
    }
   ],
   "source": [
    "df.apply(range_func)"
   ]
  },
  {
   "cell_type": "code",
   "execution_count": null,
   "metadata": {},
   "outputs": [],
   "source": []
  }
 ],
 "metadata": {
  "kernelspec": {
   "display_name": "Python 3",
   "language": "python",
   "name": "python3"
  },
  "language_info": {
   "codemirror_mode": {
    "name": "ipython",
    "version": 3
   },
   "file_extension": ".py",
   "mimetype": "text/x-python",
   "name": "python",
   "nbconvert_exporter": "python",
   "pygments_lexer": "ipython3",
   "version": "3.11.3"
  }
 },
 "nbformat": 4,
 "nbformat_minor": 2
}
